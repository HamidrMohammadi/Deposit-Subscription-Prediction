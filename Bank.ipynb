{
  "cells": [
    {
      "cell_type": "markdown",
      "metadata": {
        "id": "PvbX9b02RziO"
      },
      "source": [
        "## عنوان: اشتراک سپرده بانکی\n",
        "## حمیدرضا محمدی\n",
        "هدف: ایجاد یک مدل پیش بینی کننده برای طبقه بندی اینکه مشتریان در سپرده مدت بانکی مشترک می شوند یا خیر؟\n",
        "توضیحات فارسی به جزء متن های داهل پلات ها(به دلیل مشکل نوشتاری)"
      ]
    },
    {
      "cell_type": "markdown",
      "metadata": {
        "id": "gW-FJBC4RziU"
      },
      "source": [
        "سپرده مدت : \n",
        "1. سپرده مدت نوعی حساب سپرده است که در یک موسسه مالی نگهداری می شود و پول برای مدت زمان مشخصی قفل می شود.                                                        \n",
        "2. به طور خلاصه سپرده مدت سپرده ای است که یک بانک یا یک سرمایه گذار مالی با نرخ ثابت پیشنهاد می کند که پول شما در یک زمان خاص بازگردانده می شود"
      ]
    },
    {
      "cell_type": "code",
      "execution_count": 67,
      "metadata": {
        "id": "SpgtrFlRRziV"
      },
      "outputs": [],
      "source": [
        "import pandas as pd\n",
        "import numpy as np\n",
        "import seaborn as sns\n",
        "import matplotlib.pyplot as plt"
      ]
    },
    {
      "cell_type": "code",
      "execution_count": 68,
      "metadata": {
        "id": "JeBYbIkNRziX"
      },
      "outputs": [],
      "source": [
        "data = pd.read_csv(\"BankeHamidreza.csv\")"
      ]
    },
    {
      "cell_type": "code",
      "execution_count": null,
      "metadata": {
        "id": "a1N4bIsMRziX"
      },
      "outputs": [],
      "source": [
        "pd.options.display.max_columns = None\n",
        "data.head()"
      ]
    },
    {
      "cell_type": "code",
      "execution_count": null,
      "metadata": {
        "id": "-1q8aQfpRziY"
      },
      "outputs": [],
      "source": [
        "data.describe()"
      ]
    },
    {
      "cell_type": "code",
      "execution_count": null,
      "metadata": {
        "id": "Tl5aGiAVRziZ"
      },
      "outputs": [],
      "source": [
        "data.info()"
      ]
    },
    {
      "cell_type": "code",
      "execution_count": null,
      "metadata": {
        "id": "WDLOrnwURzia"
      },
      "outputs": [],
      "source": [
        "data.isnull().sum()"
      ]
    },
    {
      "cell_type": "markdown",
      "metadata": {
        "id": "64BKzws0Rzib"
      },
      "source": [
        "1. داده ها دارای 17 ویژگی با 11162 مشتری است\n",
        "2. داده ها ارزش پوچ ندارد\n",
        "3. میانگین سنی تقریبا 41 سال است کمترین: 18 سال و حداکثر: 95 سال\n",
        "4. میانگین تعادل 1528.3 است  (کمترین: -6847 قدیمی و حداکثر: 81204)"
      ]
    },
    {
      "cell_type": "code",
      "execution_count": null,
      "metadata": {
        "id": "MjkuSIGoRzic"
      },
      "outputs": [],
      "source": [
        "sns.countplot(x = 'deposit',data = data)\n",
        "plt.title(\"Distribution of Term Deposit count\")    "
      ]
    },
    {
      "cell_type": "code",
      "execution_count": 74,
      "metadata": {
        "id": "xvyS5SwPRzid"
      },
      "outputs": [],
      "source": [
        "def bar_plot_basic(var,data):\n",
        "    sns.countplot(x = var,data = data)\n",
        "    plt.xlabel(var)\n",
        "    plt.title(\"Distribution of {}\".format(var))    "
      ]
    },
    {
      "cell_type": "code",
      "execution_count": null,
      "metadata": {
        "id": "hNe4mf9TRzid"
      },
      "outputs": [],
      "source": [
        "plt.figure(figsize = [12,12])\n",
        "plt.subplot(221)\n",
        "bar_plot_basic('marital',data)\n",
        "\n",
        "plt.subplot(222)\n",
        "bar_plot_basic('default',data)\n",
        "\n",
        "plt.subplot(223)\n",
        "bar_plot_basic('poutcome',data)\n",
        "\n",
        "plt.subplot(224)\n",
        "bar_plot_basic('contact',data)"
      ]
    },
    {
      "cell_type": "code",
      "execution_count": null,
      "metadata": {
        "id": "PsGe1r9-Rzie"
      },
      "outputs": [],
      "source": [
        "plt.figure(figsize = [10,18])\n",
        "\n",
        "plt.subplot(311)\n",
        "sns.countplot(y = 'job',data = data)\n",
        "plt.title(\"Distribution of Job\")\n",
        "\n",
        "plt.subplot(312)\n",
        "sns.countplot(y = 'education',data = data)\n",
        "plt.title(\"Distribution of Education\")\n",
        "\n",
        "plt.subplot(313)\n",
        "sns.countplot(y = 'month',data = data)\n",
        "plt.title(\"Distribution of Month\")"
      ]
    },
    {
      "cell_type": "markdown",
      "metadata": {
        "id": "536MkaJfRzif"
      },
      "source": [
        "مشاهدات :\n",
        "1. حدود 5300 مشتری با ' بله ' در حالی که 5800 مشتری با 'نه' برای اشتراک سپرده مدت وجود دارد.\n",
        "2. بیش از 50 درصد از مشتریان متاهل هستند\n",
        "3. حداکثر تعداد افراد به جای تلفن تماس تلفن همراه دارند\n",
        "4. بسیاری از مشتریان مدیر, یقه آبی(کارگر) و تکنسین هستند"
      ]
    },
    {
      "cell_type": "code",
      "execution_count": 77,
      "metadata": {
        "id": "LgrB0M2uRzif"
      },
      "outputs": [],
      "source": [
        "def bar_plot(var1,var2,data):\n",
        "    sns.countplot(x=var1,hue=var2,data = data)\n",
        "    plt.xlabel(var1)\n",
        "    plt.title(\"Distribution of {} by {}\".format(var1,var2))  "
      ]
    },
    {
      "cell_type": "code",
      "execution_count": null,
      "metadata": {
        "id": "zLtccHPjRzif"
      },
      "outputs": [],
      "source": [
        "plt.figure(figsize = [15,15])\n",
        "\n",
        "plt.subplot(221)\n",
        "bar_plot('month','deposit',data)\n",
        "\n",
        "plt.subplot(222)\n",
        "bar_plot('marital','deposit',data)\n",
        "\n",
        "plt.subplot(223)\n",
        "bar_plot('contact','deposit',data)\n",
        "\n",
        "plt.subplot(224)\n",
        "bar_plot('poutcome','deposit',data)"
      ]
    },
    {
      "cell_type": "code",
      "execution_count": null,
      "metadata": {
        "id": "FBTqAkkrRzih"
      },
      "outputs": [],
      "source": [
        "plt.figure(figsize = [18,14])\n",
        "\n",
        "plt.subplot(211)\n",
        "sns.countplot(x = 'education',hue = 'deposit',data = data)\n",
        "\n",
        "plt.subplot(212)\n",
        "sns.countplot(x = 'job',hue = 'deposit',data= data)"
      ]
    },
    {
      "cell_type": "markdown",
      "metadata": {
        "id": "9IvxOIS0Rzih"
      },
      "source": [
        "تبدیل متغیرهای دسته ای به قالب های عددی"
      ]
    },
    {
      "cell_type": "markdown",
      "metadata": {
        "id": "DKYB9NLPRzii"
      },
      "source": [
        "مشاهدات :\n",
        "1. حداکثر و حداقل تعداد مشتریان با سپرده مدت در ماه مه هستند (واضح است که تقریبا 25 درصد از مشتریان از ماه مه هستند)\n",
        "2. حدود 2700 مشتری وجود دارد که ازدواج کرده اند و همچنین سپرده مدت مشترک دارند\n",
        "3. مشتریان با تماس از طریق تلفن همراه شانس بیشتری برای اشتراک سپرده مدت دارند\n",
        "4. مشتریانی که مدیر هستند, تکنسین, یقه آبی شانس بالایی از اشتراک سپرده مدت"
      ]
    },
    {
      "cell_type": "code",
      "execution_count": null,
      "metadata": {
        "id": "L0l0uTUFRzii"
      },
      "outputs": [],
      "source": [
        "# Correlation before converting Categorical variables\n",
        "corr = data.corr()\n",
        "\n",
        "sns.heatmap(corr,annot=True,cmap='RdYlGn',linewidths=0.2,annot_kws={'size':20})\n",
        "fig=plt.gcf()\n",
        "fig.set_size_inches(12,12)\n",
        "plt.xticks(fontsize=14)\n",
        "plt.yticks(fontsize=14)\n",
        "plt.show()"
      ]
    },
    {
      "cell_type": "code",
      "execution_count": 81,
      "metadata": {
        "id": "7hbOm_fVRzij"
      },
      "outputs": [],
      "source": [
        "from sklearn.preprocessing import LabelEncoder\n",
        "le=LabelEncoder()\n",
        "data.job = le.fit_transform(data.job)\n",
        "data.education = le.fit_transform(data.education)\n",
        "data.marital = le.fit_transform(data.marital)\n",
        "data.default = le.fit_transform(data.default)\n",
        "data.housing = le.fit_transform(data.housing)\n",
        "data.loan = le.fit_transform(data.loan)\n",
        "data.contact = le.fit_transform(data.contact)\n",
        "data.month = le.fit_transform(data.month)\n",
        "data.poutcome = le.fit_transform(data.poutcome)\n",
        "data.deposit = le.fit_transform(data.deposit)\n",
        "data.loan = le.fit_transform(data.loan)\n",
        "data.contact = le.fit_transform(data.contact)\n",
        "data.month = le.fit_transform(data.month)"
      ]
    },
    {
      "cell_type": "code",
      "execution_count": 82,
      "metadata": {
        "id": "VxF0fX3jRzij"
      },
      "outputs": [],
      "source": [
        "data[\"pdays\"].replace(-1,int(0),inplace=True)"
      ]
    },
    {
      "cell_type": "code",
      "execution_count": null,
      "metadata": {
        "id": "6jifx2bnRzij"
      },
      "outputs": [],
      "source": [
        "corr = data.corr()\n",
        "\n",
        "sns.heatmap(corr,annot=True,square = True,cmap='RdYlGn')\n",
        "fig=plt.gcf()\n",
        "fig.set_size_inches(20,20)\n",
        "plt.xticks(fontsize=14)\n",
        "plt.yticks(fontsize=14)\n",
        "plt.show()"
      ]
    },
    {
      "cell_type": "code",
      "execution_count": 84,
      "metadata": {
        "id": "tuVpvpeBRzik"
      },
      "outputs": [],
      "source": [
        "#Separating X & Y\n",
        "x=data.drop(columns = [\"deposit\"])\n",
        "y=data[\"deposit\"]"
      ]
    },
    {
      "cell_type": "markdown",
      "metadata": {
        "id": "_BzveNsmRzik"
      },
      "source": [
        "مقیاس بندی داده ها برای نتایج بهتر"
      ]
    },
    {
      "cell_type": "code",
      "execution_count": 85,
      "metadata": {
        "id": "f2J1KuhkRzil"
      },
      "outputs": [],
      "source": [
        "from sklearn.preprocessing import StandardScaler\n",
        "sc=StandardScaler()\n",
        "X=sc.fit_transform(x)"
      ]
    },
    {
      "cell_type": "code",
      "execution_count": 86,
      "metadata": {
        "id": "2768o9lSRzil"
      },
      "outputs": [],
      "source": [
        "from sklearn.model_selection import train_test_split\n",
        "X_train,X_test,y_train,y_test = train_test_split(X,y,test_size = 0.25,random_state = 0)"
      ]
    },
    {
      "cell_type": "code",
      "execution_count": 87,
      "metadata": {
        "id": "Oa8aRAVaRzil"
      },
      "outputs": [],
      "source": [
        "from sklearn.linear_model import LogisticRegression\n",
        "from sklearn.svm import SVC\n",
        "from sklearn.neighbors import KNeighborsClassifier\n",
        "from sklearn import tree\n",
        "from sklearn.ensemble import GradientBoostingClassifier\n",
        "from sklearn.ensemble import RandomForestClassifier\n",
        "from sklearn.naive_bayes import GaussianNB\n",
        "from sklearn.metrics import accuracy_score,recall_score,roc_auc_score\n",
        "from sklearn.model_selection import cross_val_score"
      ]
    },
    {
      "cell_type": "markdown",
      "metadata": {
        "id": "UAiKsxKdRzil"
      },
      "source": [
        "### رگرسیون لجستیک"
      ]
    },
    {
      "cell_type": "code",
      "execution_count": null,
      "metadata": {
        "id": "ldxXf2fKRzim"
      },
      "outputs": [],
      "source": [
        "LR = LogisticRegression()\n",
        "lr = LR.fit(X_train,y_train)\n",
        "y_pred = LR.predict(X_test)\n",
        "LR_Score = accuracy_score(y_pred,y_test)\n",
        "print(\"Accuracy Using LR : \", accuracy_score(y_pred,y_test)*100)\n",
        "print(\"Recall score : \" ,recall_score(y_pred,y_test) * 100)\n",
        "print(\"ROC score : \", roc_auc_score(y_pred,y_test) * 100)"
      ]
    },
    {
      "cell_type": "code",
      "execution_count": null,
      "metadata": {
        "id": "tyQupgcRRzim"
      },
      "outputs": [],
      "source": [
        "lr_acc = cross_val_score(lr, X_train, y_train, cv=3, scoring='accuracy')\n",
        "print(lr_acc)\n",
        "CV_LR_score = lr_acc.mean()\n",
        "print(\"CV Score using LR : \",CV_LR_score)"
      ]
    },
    {
      "cell_type": "markdown",
      "metadata": {
        "id": "9jYReEGcRzim"
      },
      "source": [
        "### Support Vector Machines\n",
        "###دستگاه های بردار پشتیبانی"
      ]
    },
    {
      "cell_type": "code",
      "execution_count": null,
      "metadata": {
        "id": "xBB_H_E-Rzim"
      },
      "outputs": [],
      "source": [
        "SVM = SVC(kernel='rbf',C =1) \n",
        "\n",
        "svm = SVM.fit(X_train,y_train)\n",
        "y_pred_svm = SVM.predict(X_test)\n",
        "SVM_Score = accuracy_score(y_pred_svm,y_test)\n",
        "\n",
        "print(\"Accuracy Using SVM : \", accuracy_score(y_pred_svm,y_test)*100)\n",
        "print(\"Recall score : \" ,recall_score(y_pred_svm,y_test) * 100)\n",
        "print(\"ROC score : \", roc_auc_score(y_pred_svm,y_test) * 100)"
      ]
    },
    {
      "cell_type": "markdown",
      "metadata": {
        "id": "wDx2JTIRRzin"
      },
      "source": [
        "### K Nearest Neighbours نزدیکترین همسایگان"
      ]
    },
    {
      "cell_type": "code",
      "execution_count": null,
      "metadata": {
        "id": "wlDB7voiRzin"
      },
      "outputs": [],
      "source": [
        "KNN = KNeighborsClassifier()\n",
        "\n",
        "KNN.fit(X_train,y_train)\n",
        "y_pred_knn = KNN.predict(X_test)\n",
        "KNN_Score = accuracy_score(y_pred_knn,y_test)\n",
        "\n",
        "print(\"Accuracy Using KNN : \", accuracy_score(y_pred_knn,y_test)*100)\n",
        "print(\"Recall score : \" ,recall_score(y_pred_knn,y_test) * 100)\n",
        "print(\"ROC score : \", roc_auc_score(y_pred_knn,y_test) * 100)\n"
      ]
    },
    {
      "cell_type": "markdown",
      "metadata": {
        "id": "QSaPH-d4Rzin"
      },
      "source": [
        "### Random Forest جنگل تصادفی😄(رندوم فاست)"
      ]
    },
    {
      "cell_type": "code",
      "execution_count": 92,
      "metadata": {
        "id": "equVxqq8Rzio"
      },
      "outputs": [],
      "source": [
        "RF= RandomForestClassifier(random_state=0)\n",
        "from sklearn.model_selection import GridSearchCV\n",
        "pg_rf={'n_estimators': [100,200,400,500],'max_depth': [20,40,50,60]}\n",
        "gs_rf=GridSearchCV(estimator= RF,\n",
        "               param_grid= pg_rf,\n",
        "               scoring='accuracy',\n",
        "               cv=2)"
      ]
    },
    {
      "cell_type": "code",
      "execution_count": 93,
      "metadata": {
        "id": "e0UCmyFKRzio"
      },
      "outputs": [],
      "source": [
        "gs_rf_scores = cross_val_score(gs_rf, X=X_train, y=y_train, cv=5,scoring='accuracy', n_jobs=-1)\n",
        "gs_rf.fit(X_train, y_train)\n",
        "gs_rf_best=gs_rf.best_estimator_\n",
        "gs_rf_best.fit(X_train, y_train)\n",
        "y_pred_RF = gs_rf_best.predict(X_test)"
      ]
    },
    {
      "cell_type": "code",
      "execution_count": null,
      "metadata": {
        "id": "3Io_pn7aRzio"
      },
      "outputs": [],
      "source": [
        "RF_Score = gs_rf_scores.mean()\n",
        "print(\"Cross Validation Avg Accuracy Using RF : \", gs_rf_scores.mean()*100)\n",
        "print(\"Accuracy Using best RF : \", gs_rf_scores.mean()*100)\n",
        "print(\"Recall score : \" ,recall_score(y_pred_RF,y_test) * 100)\n",
        "print(\"ROC score : \", roc_auc_score(y_pred_RF,y_test) * 100)"
      ]
    },
    {
      "cell_type": "code",
      "execution_count": null,
      "metadata": {
        "id": "1gFtCqH_Rzio"
      },
      "outputs": [],
      "source": [
        "importances = gs_rf_best.feature_importances_\n",
        "importances"
      ]
    },
    {
      "cell_type": "code",
      "execution_count": 96,
      "metadata": {
        "id": "YQ-VkourRzip"
      },
      "outputs": [],
      "source": [
        "feature_names = x.columns"
      ]
    },
    {
      "cell_type": "code",
      "execution_count": null,
      "metadata": {
        "id": "KTxS0wb2Rzip"
      },
      "outputs": [],
      "source": [
        " for name, importance in zip(feature_names, gs_rf_best.feature_importances_):\n",
        "        print(name, \"=\", importance)"
      ]
    },
    {
      "cell_type": "code",
      "execution_count": null,
      "metadata": {
        "id": "J0i5KYpqRzip"
      },
      "outputs": [],
      "source": [
        "# Important Features using Random Forest\n",
        "sns.barplot(gs_rf_best.feature_importances_,feature_names)\n",
        "#feat_importances = pd.Series(gs_rf_best.feature_importances_, index=feature_names)"
      ]
    },
    {
      "cell_type": "markdown",
      "metadata": {
        "id": "P3pjKZpWRzip"
      },
      "source": [
        "### XGBoost ایکس جی بوست"
      ]
    },
    {
      "cell_type": "code",
      "execution_count": null,
      "metadata": {
        "id": "8o6urljVRziq"
      },
      "outputs": [],
      "source": [
        "import xgboost\n",
        "xgb = xgboost.XGBClassifier(n_estimators=200, learning_rate=0.08, gamma=0, subsample=0.75,\n",
        "                           colsample_bytree=1, max_depth=7)\n",
        "xgb.fit(X_train,y_train)\n",
        "y_pred_XGB = xgb.predict(X_test)\n",
        "XGB_Score = accuracy_score(y_pred_XGB,y_test)\n",
        "\n",
        "print(\"Accuracy Using SVM : \", accuracy_score(y_pred_XGB,y_test)*100)\n",
        "print(\"Recall score : \" ,recall_score(y_pred_XGB,y_test) * 100)\n",
        "print(\"ROC score : \", roc_auc_score(y_pred_XGB,y_test) * 100)"
      ]
    },
    {
      "cell_type": "code",
      "execution_count": null,
      "metadata": {
        "id": "9nKD9CO6Rziq"
      },
      "outputs": [],
      "source": [
        "sns.barplot(xgb.feature_importances_,feature_names)"
      ]
    },
    {
      "cell_type": "markdown",
      "metadata": {
        "id": "bF9DX-hARziq"
      },
      "source": [
        "### همه نتایج:👍🙂🙃"
      ]
    },
    {
      "cell_type": "code",
      "execution_count": 101,
      "metadata": {
        "id": "-Pu3HRIYRzit"
      },
      "outputs": [],
      "source": [
        "Results = pd.DataFrame({'Model': ['Logistic Regression','SVM','KNN','Random Forest','XGBoost'],\n",
        "                        'Accuracy Score' : [CV_LR_score,SVM_Score,KNN_Score,RF_Score,XGB_Score]})"
      ]
    },
    {
      "cell_type": "code",
      "execution_count": null,
      "metadata": {
        "id": "ecfbfJUxRziu"
      },
      "outputs": [],
      "source": [
        "Final_Results = Results.sort_values(by = 'Accuracy Score', ascending=False)\n",
        "Final_Results = Final_Results.set_index('Model')\n",
        "print(Final_Results)"
      ]
    },
    {
      "cell_type": "markdown",
      "metadata": {
        "id": "nXC9mQ0-Rziu"
      },
      "source": [
        "از بالا نتیجه می گیریم که\n",
        "1. مدل های ایکس جی بوست و رندوم فارست دقت بهتری داده اند\n",
        "2. مدت زمان، مسکن، تماس، نتیجه، تعادل مهم ترین ویژگی های مشتریان است که در هنگام اشتراک سپرده مدت دار باید در نظر گرفته شود.\n",
        "\n"
      ]
    }
  ],
  "metadata": {
    "kernelspec": {
      "display_name": "Python 3",
      "language": "python",
      "name": "python3"
    },
    "language_info": {
      "codemirror_mode": {
        "name": "ipython",
        "version": 3
      },
      "file_extension": ".py",
      "mimetype": "text/x-python",
      "name": "python",
      "nbconvert_exporter": "python",
      "pygments_lexer": "ipython3",
      "version": "3.7.1"
    },
    "colab": {
      "name": "Bank.ipynb",
      "provenance": [],
      "collapsed_sections": []
    }
  },
  "nbformat": 4,
  "nbformat_minor": 0
}